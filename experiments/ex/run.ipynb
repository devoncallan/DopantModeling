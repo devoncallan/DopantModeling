{
 "cells": [
  {
   "cell_type": "code",
   "execution_count": null,
   "metadata": {},
   "outputs": [],
   "source": [
    "import os\n",
    "import sys\n",
    "import pathlib\n",
    "import subprocess\n",
    "\n",
    "import numpy as np\n",
    "import matplotlib.pyplot as plt\n",
    "\n",
    "import warnings\n",
    "warnings.filterwarnings('ignore')\n",
    "\n",
    "####################################################################\n",
    "### NOTE: CHANGE PATHS FOR NRSS, PYHYPER, AND CURRENT REPOSITORY ###\n",
    "####################################################################\n",
    "\n",
    "sys.path.append('/home/devon/Documents/Github/NRSS/')\n",
    "sys.path.append('/home/devon/Documents/Github/PyHyperScattering/src/')\n",
    "sys.path.append('/home/devon/Documents/DopantModeling/')\n",
    "\n",
    "# NOTE: C\n",
    "import experiments.ex.params as p\n",
    "\n",
    "\n",
    "from src.Common.files import make_output_dir\n",
    "from src.Morphology.Fibril import FibrilGenerator\n",
    "from src.Morphology.Fibril import FibrilPostProcessor\n",
    "from src.Simulation import cyrsoxs\n",
    "from src.Visualization import plot, animation\n",
    "\n",
    "%load_ext autoreload\n",
    "%autoreload 2"
   ]
  },
  {
   "cell_type": "code",
   "execution_count": null,
   "metadata": {},
   "outputs": [],
   "source": [
    "##########################################\n",
    "### DEFINE EXPERIMENT SWEEP PARAMETERS ###\n",
    "##########################################\n",
    "\n",
    "exp1 = {\n",
    "    \"45\": 45,\n",
    "    # \"60\": 60,\n",
    "    # \"75\": 75,\n",
    "    # \"90\": 90\n",
    "}"
   ]
  },
  {
   "cell_type": "code",
   "execution_count": null,
   "metadata": {},
   "outputs": [],
   "source": [
    "# SINGLE VARIABLE SWEEP\n",
    "for exp1_name, exp1_val in exp1.items():\n",
    "\n",
    "    # # Create experiment save directory\n",
    "    dir_name = f'{exp1_name}_nm'\n",
    "    save_dir = make_output_dir(p.base_path, dir_name, delete_dir_if_exists=False)\n",
    "    fig_dir = make_output_dir(save_dir, 'figures', delete_dir_if_exists=False)\n",
    "\n",
    "    # Adjust input parameters based on experiment values\n",
    "    p.c2c_dist_nm = exp1_val\n",
    "\n",
    "    # Build morphology \n",
    "    fibgen = FibrilGenerator.generate_morphology(p)\n",
    "    data = FibrilPostProcessor.process_morphology(fibgen, p)\n",
    "    cyrsoxs.create_hdf5(data, p)\n",
    "    figs = plot.plot_checkH5(p.DEFAULT_MORPH_FILE, z_slice=int(p.z_dim_nm/p.pitch_nm/2), save_dir=fig_dir)\n",
    "\n",
    "    # Create cyrsoxs inputs\n",
    "    cyrsoxs.create_inputs(p)\n",
    "\n",
    "    # Simulate scattering\n",
    "    cyrsoxs.run(p, save_dir=save_dir)\n",
    "    cyrsoxs.cleanup(p, delete_morph_file=False) # Change this flag \n",
    "\n",
    "    # Analyze/visualize results\n",
    "    raw_data, integ_data = cyrsoxs.load(save_dir)\n",
    "    para, perp, AR = cyrsoxs.get_para_perp_AR(integ_data, q_range=p.q_range)\n",
    "    # Iq2, ISI = cyrsoxs.get_Iq2_ISI(integ_data, E_range=p.E_range)\n",
    "\n",
    "    fig, ax = plot.plot_anisotropy_EvQ(AR, q_range=p.q_range, E_range=p.E_range, save_dir=fig_dir)\n",
    "    fig, ax = plot.plot_para_perp(para, perp, q_range=p.q_range, I_range=p.I_range, E_range=p.E_range, save_dir=fig_dir)\n",
    "    fig, ax = plot.plot_intensity_EvQ(para, q_range=p.q_range, E_range=p.E_range, label='Parallel', save_dir=fig_dir)\n",
    "    fig, ax = plot.plot_intensity_EvQ(perp, q_range=p.q_range, E_range=p.E_range, label='Perpendicular', save_dir=fig_dir)\n",
    "    # fig, ax = plot.plot_Iq2(Iq2, q_range=p.q_range, E_range=p.E_range, save_dir=fig_dir)\n",
    "    # fig, ax = plot.plot_ISI(ISI, E_range=p.E_range, save_dir=fig_dir)\n",
    "    # Plotting functions: checkH5, ISI, circular avg, FY NEXAFS \n"
   ]
  },
  {
   "cell_type": "code",
   "execution_count": null,
   "metadata": {},
   "outputs": [],
   "source": []
  },
  {
   "cell_type": "code",
   "execution_count": null,
   "metadata": {},
   "outputs": [],
   "source": []
  },
  {
   "cell_type": "code",
   "execution_count": null,
   "metadata": {},
   "outputs": [],
   "source": []
  }
 ],
 "metadata": {
  "kernelspec": {
   "display_name": "nrss",
   "language": "python",
   "name": "python3"
  },
  "language_info": {
   "codemirror_mode": {
    "name": "ipython",
    "version": 3
   },
   "file_extension": ".py",
   "mimetype": "text/x-python",
   "name": "python",
   "nbconvert_exporter": "python",
   "pygments_lexer": "ipython3",
   "version": "3.9.0"
  }
 },
 "nbformat": 4,
 "nbformat_minor": 2
}
