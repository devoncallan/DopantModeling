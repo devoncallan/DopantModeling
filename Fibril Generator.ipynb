{
 "cells": [
  {
   "cell_type": "markdown",
   "metadata": {
    "scrolled": false
   },
   "source": [
    "# Fibril Generator and CyRSoXS Simulation"
   ]
  },
  {
   "cell_type": "code",
   "execution_count": null,
   "metadata": {
    "scrolled": false
   },
   "outputs": [],
   "source": [
    "from scipy.interpolate import interp1d\n",
    "from scipy.ndimage import rotate\n",
    "from sklearn.preprocessing import normalize\n",
    "from scipy.ndimage import gaussian_filter\n",
    "import numpy as np\n",
    "import matplotlib.pyplot as plt\n",
    "import matplotlib.animation as animation\n",
    "import trimesh\n",
    "import pyembree\n",
    "import random\n",
    "import pickle\n",
    "from NRSS.writer import write_materials, write_hdf5, write_config, write_slurm\n",
    "from NRSS.checkH5 import checkH5\n",
    "\n",
    "from Morphology import Morphology\n",
    "from Fibril import Fibril\n",
    "import sys\n",
    "import pathlib\n",
    "\n",
    "\n",
    "import subprocess\n",
    "import h5py\n",
    "\n",
    "from PyHyperScattering.load import cyrsoxsLoader\n",
    "from PyHyperScattering.integrate import WPIntegrator\n",
    "\n",
    "\n",
    "import matplotlib.patches as patches\n",
    "from mpl_toolkits.axes_grid1.anchored_artists import AnchoredSizeBar\n",
    "import matplotlib.font_manager as fm\n",
    "from matplotlib import cm\n",
    "from matplotlib.colors import LogNorm\n",
    "\n",
    "import numpy as np\n",
    "import io\n",
    "from PIL import Image\n",
    "import PIL\n",
    "\n",
    "\n",
    "%load_ext autoreload\n",
    "%autoreload 2\n",
    "%matplotlib inline"
   ]
  },
  {
   "cell_type": "markdown",
   "metadata": {},
   "source": [
    "## Define path to NRSS and PyHyperScattering"
   ]
  },
  {
   "cell_type": "code",
   "execution_count": null,
   "metadata": {},
   "outputs": [],
   "source": [
    "sys.path.append('/home/devon/Documents/Github/NRSS/')\n",
    "sys.path.append('/home/devon/Documents/Github/PyHyperScattering/src/')"
   ]
  },
  {
   "cell_type": "markdown",
   "metadata": {
    "scrolled": false
   },
   "source": [
    "## Define and generate fibril morphology"
   ]
  },
  {
   "cell_type": "code",
   "execution_count": null,
   "metadata": {
    "scrolled": true
   },
   "outputs": [],
   "source": [
    "# Declare model box size in nm (x,y,z)\n",
    "x_dim_nm  = 1024\n",
    "y_dim_nm  = 1024\n",
    "z_dim_nm  = 128\n",
    "pitch_nm = 2 # Dimension of voxel in nm\n",
    "\n",
    "# Initialize morphology\n",
    "morphology = Morphology(x_dim_nm, y_dim_nm, z_dim_nm, pitch_nm, 2)\n",
    "morphology.set_model_parameters(radius_nm_avg = 12,\n",
    "                                radius_nm_std = 3,\n",
    "                                max_num_fibrils = 50,\n",
    "                                fibril_length_range_nm = [100, 400])\n",
    "\n",
    "morphology.fill_model()"
   ]
  },
  {
   "cell_type": "code",
   "execution_count": null,
   "metadata": {
    "scrolled": false
   },
   "outputs": [],
   "source": [
    "# May not show if the morphology is too large (too many fibrils)\n",
    "scene = morphology.get_scene(show_bounding_box=True)\n",
    "scene.show()"
   ]
  },
  {
   "cell_type": "code",
   "execution_count": null,
   "metadata": {
    "scrolled": false
   },
   "outputs": [],
   "source": [
    "morphology.voxelize_model()"
   ]
  },
  {
   "cell_type": "markdown",
   "metadata": {},
   "source": [
    "## Save voxelized morphology as reduced morphology"
   ]
  },
  {
   "cell_type": "code",
   "execution_count": null,
   "metadata": {
    "scrolled": false
   },
   "outputs": [],
   "source": [
    "from ReducedMorphology import ReducedMorphology\n",
    "rm = ReducedMorphology(morphology)"
   ]
  },
  {
   "cell_type": "code",
   "execution_count": null,
   "metadata": {},
   "outputs": [],
   "source": [
    "filename = 'test.pickle'\n",
    "with open(filename, 'wb') as f:\n",
    "    pickle.dump(rm, f)"
   ]
  },
  {
   "cell_type": "markdown",
   "metadata": {},
   "source": [
    "## Load voxelized reduced morphology"
   ]
  },
  {
   "cell_type": "code",
   "execution_count": null,
   "metadata": {
    "scrolled": false
   },
   "outputs": [],
   "source": [
    "rm = None\n",
    "with open('test.pickle', 'rb') as f:\n",
    "    rm = pickle.load(f)"
   ]
  },
  {
   "cell_type": "markdown",
   "metadata": {},
   "source": [
    "## Create material matricies"
   ]
  },
  {
   "cell_type": "code",
   "execution_count": null,
   "metadata": {
    "scrolled": false
   },
   "outputs": [],
   "source": [
    "# Generate material matricies\n",
    "mat_Vfrac, mat_S, mat_theta, mat_psi = rm.generate_material_matricies()\n",
    "\n",
    "# Change material 1 matricies\n",
    "f2 = 0.90\n",
    "mat_Vfrac[0,:,:,:] = f2*np.ones_like(mat_Vfrac[0,:,:,:]) + (1-f2)*mat_Vfrac[0,:,:,:]\n",
    "mat_Vfrac[0,:,:,:] = gaussian_filter(mat_Vfrac[0,:,:,:],  0)\n",
    "mat_S[0,:,:,:]     = gaussian_filter(0.75*mat_S[0,:,:,:], 0)\n",
    "mat_theta[0,:,:,:] = gaussian_filter(mat_theta[0,:,:,:],  0)\n",
    "mat_psi[0,:,:,:]   = gaussian_filter(mat_psi[0,:,:,:],    0)\n",
    "\n",
    "# Change material 2 matricies\n",
    "mat_Vfrac[1,:,:,:] = 1 - mat_Vfrac[0,:,:,:]\n",
    "mat_S[1,:,:,:]     = mat_S[1,:,:,:]\n",
    "mat_theta[1,:,:,:] = mat_theta[1,:,:,:]\n",
    "mat_psi[1,:,:,:]   = mat_psi[1,:,:,:]"
   ]
  },
  {
   "cell_type": "markdown",
   "metadata": {},
   "source": [
    "## Generate simulation input files"
   ]
  },
  {
   "cell_type": "code",
   "execution_count": null,
   "metadata": {
    "scrolled": false
   },
   "outputs": [],
   "source": [
    "phys_size = 2.0\n",
    "write_hdf5([[mat_Vfrac[0,:,:,:], mat_S[0,:,:,:], mat_theta[0,:,:,:], mat_psi[0,:,:,:]], \n",
    "            [mat_Vfrac[1,:,:,:], mat_S[1,:,:,:], mat_theta[1,:,:,:], mat_psi[1,:,:,:]]],\n",
    "            phys_size, 'Fibril.hdf5')"
   ]
  },
  {
   "cell_type": "code",
   "execution_count": null,
   "metadata": {
    "scrolled": false
   },
   "outputs": [],
   "source": [
    "checkH5('Fibril.hdf5', z_slice=25, plotstyle='dark')"
   ]
  },
  {
   "cell_type": "code",
   "execution_count": null,
   "metadata": {
    "scrolled": false
   },
   "outputs": [],
   "source": [
    "energies = np.round(np.arange(280., 300., 0.5),1)\n",
    "energies"
   ]
  },
  {
   "cell_type": "code",
   "execution_count": null,
   "metadata": {
    "scrolled": false
   },
   "outputs": [],
   "source": [
    "material_dict = {'Material1':'P3HT.txt','Material2':'vacuum'}\n",
    "energy_dict = {'Energy':6,'DeltaPerp':3, 'BetaPerp':1, 'DeltaPara':2, 'BetaPara':0}  \n",
    "write_materials(energies, material_dict, energy_dict, 2)"
   ]
  },
  {
   "cell_type": "code",
   "execution_count": null,
   "metadata": {
    "scrolled": false
   },
   "outputs": [],
   "source": [
    "write_config(list(energies), [0.0, 1.0, 360.0], CaseType=0, MorphologyType=0)"
   ]
  },
  {
   "cell_type": "markdown",
   "metadata": {},
   "source": [
    "## Run CyRSoXS"
   ]
  },
  {
   "cell_type": "code",
   "execution_count": null,
   "metadata": {
    "scrolled": true
   },
   "outputs": [],
   "source": [
    "subprocess.run(['CyRSoXS','Fibril.hdf5'])"
   ]
  },
  {
   "cell_type": "markdown",
   "metadata": {
    "scrolled": false
   },
   "source": [
    "## Load CyRSoXS Results"
   ]
  },
  {
   "cell_type": "code",
   "execution_count": null,
   "metadata": {
    "scrolled": false
   },
   "outputs": [],
   "source": [
    "basePath = pathlib.Path('.').absolute()\n",
    "h5path = pathlib.Path(basePath,'HDF5')\n",
    "h5list = list(sorted(h5path.glob('*h5')))"
   ]
  },
  {
   "cell_type": "code",
   "execution_count": null,
   "metadata": {
    "scrolled": false
   },
   "outputs": [],
   "source": [
    "def print_key(f, key):\n",
    "    try:\n",
    "        keys2 = f[key].keys()\n",
    "        for key2 in keys2:\n",
    "            new_key = key + '/' + key2\n",
    "            print_key(f, new_key)\n",
    "    except AttributeError:\n",
    "        print(key)\n",
    "\n",
    "with h5py.File(h5list[0],'r') as f:\n",
    "    for key in f.keys():\n",
    "        print_key(f, key)"
   ]
  },
  {
   "cell_type": "code",
   "execution_count": null,
   "metadata": {
    "scrolled": false
   },
   "outputs": [],
   "source": [
    "load = cyrsoxsLoader()\n",
    "integ = WPIntegrator(force_np_backend=True) # avoiding gpu backend for this tutorial"
   ]
  },
  {
   "cell_type": "code",
   "execution_count": null,
   "metadata": {
    "scrolled": false
   },
   "outputs": [],
   "source": [
    "raw = load.loadDirectory(basePath)"
   ]
  },
  {
   "cell_type": "code",
   "execution_count": null,
   "metadata": {
    "scrolled": false
   },
   "outputs": [],
   "source": [
    "remeshed = integ.integrateImageStack(raw)"
   ]
  },
  {
   "cell_type": "markdown",
   "metadata": {
    "scrolled": false
   },
   "source": [
    "## Visualize CyRSoXS Results"
   ]
  },
  {
   "cell_type": "code",
   "execution_count": null,
   "metadata": {
    "scrolled": false
   },
   "outputs": [],
   "source": [
    "c = cm.jet(np.linspace(0,1,len(remeshed)))"
   ]
  },
  {
   "cell_type": "code",
   "execution_count": null,
   "metadata": {
    "scrolled": false
   },
   "outputs": [],
   "source": [
    "fig, ax = plt.subplots(1,3,figsize=(10,3),dpi=140,constrained_layout=True)\n",
    "raw.sel(energy=283.5).plot(norm=LogNorm(1e-2,1e7),cmap='terrain',ax=ax[0],add_colorbar=False)\n",
    "raw.sel(energy=285).plot(norm=LogNorm(1e-2,1e7),cmap='terrain',ax=ax[1],add_colorbar=False)\n",
    "raw.sel(energy=286.5).plot(norm=LogNorm(1e-2,1e7),cmap='terrain',ax=ax[2])\n",
    "\n",
    "[{axes.set_xlim(-0.1,0.1),axes.set_ylim(-0.1,0.1)} for axes in ax]\n",
    "plt.show()"
   ]
  },
  {
   "cell_type": "code",
   "execution_count": null,
   "metadata": {
    "scrolled": false
   },
   "outputs": [],
   "source": [
    "fig, ax = plt.subplots(1,3,figsize=(10,3),dpi=140,constrained_layout=True)\n",
    "raw.sel(energy=280).plot(norm=LogNorm(1e-2,1e7),cmap='terrain',ax=ax[0],add_colorbar=False)\n",
    "raw.sel(energy=290).plot(norm=LogNorm(1e-2,1e7),cmap='terrain',ax=ax[1],add_colorbar=False)\n",
    "raw.sel(energy=299).plot(norm=LogNorm(1e-2,1e7),cmap='terrain',ax=ax[2])\n",
    "\n",
    "[{axes.set_xlim(-0.4,0.4),axes.set_ylim(-0.4,0.4)} for axes in ax]\n",
    "plt.show()"
   ]
  },
  {
   "cell_type": "code",
   "execution_count": null,
   "metadata": {
    "scrolled": false
   },
   "outputs": [],
   "source": [
    "# calculate the anisotropy metric\n",
    "A = remeshed.rsoxs.AR(chi_width=20)"
   ]
  },
  {
   "cell_type": "code",
   "execution_count": null,
   "metadata": {
    "scrolled": false
   },
   "outputs": [],
   "source": [
    "A.plot(x='q',cmap='bwr', vmin=-0.45, vmax=0.45)\n",
    "plt.xlim(left=0.01, right=0.1)\n",
    "plt.ylim(bottom=280, top=295)\n",
    "plt.xscale('linear')\n",
    "plt.show()"
   ]
  },
  {
   "cell_type": "code",
   "execution_count": null,
   "metadata": {
    "scrolled": false
   },
   "outputs": [],
   "source": [
    "A.plot(x='q',cmap='bwr')\n",
    "plt.xlim(left=0.01, right=0.1)\n",
    "plt.ylim(bottom=280, top=295)\n",
    "plt.xscale('linear')\n",
    "plt.show()"
   ]
  },
  {
   "cell_type": "code",
   "execution_count": null,
   "metadata": {
    "scrolled": false
   },
   "outputs": [],
   "source": [
    "A.plot(x='q',cmap='bwr', vmin=-0.45, vmax=0.45)\n",
    "plt.xlim(left=0.01, right=1)\n",
    "plt.ylim(bottom=280, top=295)\n",
    "plt.xscale('linear')\n",
    "plt.show()"
   ]
  },
  {
   "cell_type": "code",
   "execution_count": null,
   "metadata": {
    "scrolled": false
   },
   "outputs": [],
   "source": [
    "A.plot(x='q',cmap='bwr', vmin=-0.45, vmax=0.45)\n",
    "plt.xlim(left=0.01, right=1)\n",
    "plt.ylim(bottom=280, top=295)\n",
    "plt.xscale('linear')\n",
    "plt.show()"
   ]
  },
  {
   "cell_type": "code",
   "execution_count": null,
   "metadata": {
    "scrolled": false
   },
   "outputs": [],
   "source": [
    "horz = remeshed.rsoxs.slice_chi(0, chi_width=20)\n",
    "vert = remeshed.rsoxs.slice_chi(90, chi_width=20)"
   ]
  },
  {
   "cell_type": "code",
   "execution_count": null,
   "metadata": {
    "scrolled": false
   },
   "outputs": [],
   "source": [
    "vert.plot(x='q',cmap='terrain',norm=LogNorm(5e1,1e5), xscale='linear')\n",
    "plt.xlim(left=0.01, right=0.1)\n",
    "plt.show()"
   ]
  },
  {
   "cell_type": "code",
   "execution_count": null,
   "metadata": {
    "scrolled": false
   },
   "outputs": [],
   "source": [
    "vert.plot(x='q',cmap='terrain',norm=LogNorm(1e-1,1e7), xscale='linear')\n",
    "plt.xlim(left=0.01, right=1)\n",
    "plt.show()"
   ]
  },
  {
   "cell_type": "code",
   "execution_count": null,
   "metadata": {
    "scrolled": false
   },
   "outputs": [],
   "source": [
    "vert.sel(energy=280).plot(yscale='log',xscale='linear')\n",
    "plt.xlim(left=0.01, right=1)\n",
    "plt.ylim(bottom=1e-5, top=1e2)\n",
    "plt.show()"
   ]
  },
  {
   "cell_type": "code",
   "execution_count": null,
   "metadata": {
    "scrolled": false
   },
   "outputs": [],
   "source": []
  },
  {
   "cell_type": "code",
   "execution_count": null,
   "metadata": {
    "scrolled": false
   },
   "outputs": [],
   "source": []
  }
 ],
 "metadata": {
  "kernelspec": {
   "display_name": "Python 3 (ipykernel)",
   "language": "python",
   "name": "python3"
  },
  "language_info": {
   "codemirror_mode": {
    "name": "ipython",
    "version": 3
   },
   "file_extension": ".py",
   "mimetype": "text/x-python",
   "name": "python",
   "nbconvert_exporter": "python",
   "pygments_lexer": "ipython3",
   "version": "3.9.0"
  },
  "vscode": {
   "interpreter": {
    "hash": "35a52ff210bbb5ee2882099d0e30eeb06c230a07872e54930f2ca434bfb7bb39"
   }
  }
 },
 "nbformat": 4,
 "nbformat_minor": 4
}
