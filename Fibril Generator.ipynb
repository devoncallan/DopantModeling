{
 "cells": [
  {
   "cell_type": "code",
   "execution_count": null,
   "metadata": {},
   "outputs": [],
   "source": [
    "from scipy.interpolate import interp1d\n",
    "from scipy.ndimage.interpolation import rotate\n",
    "from sklearn.preprocessing import normalize\n",
    "import numpy as np\n",
    "import matplotlib.pyplot as plt\n",
    "import trimesh\n",
    "import pyembree\n",
    "import random\n",
    "import matplotlib.patches as patches\n",
    "from Morphology import Morphology\n",
    "from Fibril import Fibril\n",
    "from mpl_toolkits.axes_grid1.anchored_artists import AnchoredSizeBar\n",
    "import matplotlib.font_manager as fm\n",
    "\n",
    "\n",
    "%load_ext autoreload\n",
    "%autoreload 2\n",
    "%matplotlib widget"
   ]
  },
  {
   "cell_type": "code",
   "execution_count": null,
   "metadata": {},
   "outputs": [],
   "source": []
  },
  {
   "cell_type": "code",
   "execution_count": null,
   "metadata": {},
   "outputs": [],
   "source": [
    "#https://stackoverflow.com/questions/53999426/how-to-parameterize-a-curved-cylinder"
   ]
  },
  {
   "cell_type": "code",
   "execution_count": null,
   "metadata": {},
   "outputs": [],
   "source": [
    "# Declare model box size in nm (x,y,z)\n",
    "x_dim_nm  = 1024\n",
    "y_dim_nm  = 1024\n",
    "z_dim_nm  = 128\n",
    "pitch_nm = 2 # Dimension of voxel in nm\n",
    "\n",
    "# Initialize morphology\n",
    "morphology = Morphology(x_dim_nm, y_dim_nm, z_dim_nm, pitch_nm, 2)\n",
    "morphology.set_model_parameters(radius_nm_avg = 10.,\n",
    "                                radius_nm_std = 1.0,\n",
    "                                max_num_fibrils = 250,\n",
    "                                fibril_length_range_nm = [100, 400])\n",
    "\n",
    "morphology.fill_model()"
   ]
  },
  {
   "cell_type": "code",
   "execution_count": null,
   "metadata": {},
   "outputs": [],
   "source": [
    "scene = morphology.get_scene(show_bounding_box=True)\n",
    "# scene.show()"
   ]
  },
  {
   "cell_type": "code",
   "execution_count": null,
   "metadata": {},
   "outputs": [],
   "source": [
    "scene = morphology.get_scene(show_bounding_box=True, show_voxelized=True)\n",
    "scene.show()"
   ]
  },
  {
   "cell_type": "code",
   "execution_count": null,
   "metadata": {},
   "outputs": [],
   "source": [
    "indices = np.array([[0,0,0]],dtype=int)\n",
    "\n",
    "fibrils = morphology.fibrils\n",
    "for fibril in fibrils:\n",
    "    voxel_mesh = fibril.voxel_mesh\n",
    "    indices = np.append(indices, np.array(voxel_mesh.vertices, dtype=int),axis=0)\n",
    "\n",
    "indices  = [index for index in indices if index[0] < morphology.x_dim and index[1] < morphology.y_dim and index[2] < morphology.z_dim]\n",
    "    \n",
    "voxel_box = np.zeros((morphology.x_dim, morphology.y_dim, morphology.z_dim))\n",
    "for index in indices:\n",
    "    voxel_box[tuple(index)] = 1"
   ]
  },
  {
   "cell_type": "code",
   "execution_count": null,
   "metadata": {},
   "outputs": [],
   "source": [
    "np.array(voxel_mesh.vertices, dtype=int)"
   ]
  },
  {
   "cell_type": "code",
   "execution_count": null,
   "metadata": {},
   "outputs": [],
   "source": [
    "plt.close()\n",
    "plt.figure(dpi=150)\n",
    "plt.imshow(voxel_box[:,:,60])"
   ]
  },
  {
   "cell_type": "code",
   "execution_count": null,
   "metadata": {},
   "outputs": [],
   "source": [
    "import matplotlib.animation as animation\n",
    "fig = plt.figure(dpi=300)\n",
    "def updatefig(i):\n",
    "    fig.clear()\n",
    "    plt.imshow(voxel_box[:,:,i])\n",
    "    plt.xlabel('x (nm)')\n",
    "    plt.ylabel('y (nm)')\n",
    "    plt.draw()\n",
    "anim = animation.FuncAnimation(fig, updatefig, 63)\n",
    "anim.save(\"test.mp4\", fps=16)\n",
    "plt.close()"
   ]
  },
  {
   "cell_type": "code",
   "execution_count": null,
   "metadata": {},
   "outputs": [],
   "source": [
    "plt.close()\n",
    "fontprops = fm.FontProperties(size=12)\n",
    "voxel_box = np.random.rand(512, 512, 64)\n",
    "fig, ax = plt.subplots()\n",
    "ax.imshow(voxel_box[:,:,10])\n",
    "# ax.set_xlabel('x dim (nm)')\n",
    "# ax.set_ylabel('y dim (nm)')\n",
    "ticks  = [0, 100, 200, 300, 400, 500]\n",
    "ticks2 = np.multiply(ticks,2)\n",
    "ax.set_xticks([])\n",
    "# ax.set_xticklabels(ticks2)\n",
    "ax.set_yticks([])\n",
    "# ax.set_yticklabels(ticks2)\n",
    "# calculate the scale bar dimensions\n",
    "scale_bar_length = 100 # in pixels\n",
    "scale_bar_height = 10 # in pixels\n",
    "scale_bar_width = scale_bar_length # in pixels\n",
    "scale_bar_offset = 20\n",
    "\n",
    "# calculate the position of the scale bar\n",
    "x_pos = 512 - (scale_bar_length + scale_bar_offset) # in axes coordinates\n",
    "y_pos = 512 - (scale_bar_offset + scale_bar_height) # in axes coordinates\n",
    "\n",
    "# create the scale bar rectangle and add it to the plot\n",
    "# scale_bar_rect = patches.Rectangle((x_pos, y_pos), scale_bar_length, scale_bar_height, linewidth=2, edgecolor='white', facecolor='black')\n",
    "# ax.add_patch(scale_bar_rect)\n",
    "\n",
    "# add the scale bar label\n",
    "# scale_bar_label = str(scale_bar_width) + ' nm'\n",
    "# ax.text(x_pos, y_pos, scale_bar_label, color='white', fontsize=12)\n",
    "scalebar = AnchoredSizeBar(ax.transData,\n",
    "                           75, '150 nm', 'lower right', \n",
    "                           pad=0.1,\n",
    "                           color='k',\n",
    "                           frameon=False,\n",
    "                           size_vertical=1,\n",
    "                           fontproperties=fontprops)\n",
    "ax.add_artist(scalebar\n",
    "plt.show()"
   ]
  },
  {
   "cell_type": "code",
   "execution_count": null,
   "metadata": {},
   "outputs": [],
   "source": [
    "for i in range(100):\n",
    "    plt.close()"
   ]
  },
  {
   "cell_type": "code",
   "execution_count": null,
   "metadata": {},
   "outputs": [],
   "source": [
    "fibril_volume = 0\n",
    "fibril_vox_volume = 0\n",
    "for fibril in morphology.fibrils:\n",
    "    fibril_volume     += fibril.volume\n",
    "    fibril_vox_volume += fibril.voxel_volume\n",
    "print(f'Fibril Volume    : {fibril_volume:.2f}')\n",
    "print(f'Fibril Vox Volume: {fibril_vox_volume:.2f}')\n",
    "print(f'Box Volume: {morphology.box_volume}')\n",
    "mpc = fibril_volume / morphology.box_volume * 100\n",
    "vpc = fibril_vox_volume / morphology.box_volume * 100\n",
    "print(f'Mesh Percent Crystallinity: {mpc:.2f}')\n",
    "print(f'Voxel Percent Crystallinity: {vpc:.2f}')"
   ]
  },
  {
   "cell_type": "markdown",
   "metadata": {},
   "source": [
    "- Animation for morphology\n",
    "- List of model parameters"
   ]
  },
  {
   "cell_type": "code",
   "execution_count": null,
   "metadata": {},
   "outputs": [],
   "source": [
    "ma = morphology.mesh_list[0]\n",
    "va = ma.voxelized(pitch=pitch)\n",
    "\n",
    "mb = morphology.mesh_list[1]\n",
    "vb = mb.voxelized(pitch=pitch)"
   ]
  },
  {
   "cell_type": "code",
   "execution_count": null,
   "metadata": {},
   "outputs": [],
   "source": [
    "vmesh_list = []\n",
    "for mesh in tqdm(morphology.mesh_list):\n",
    "    v = mesh.voxelized(pitch=1)\n",
    "    vmesh = v.fill().as_boxes()\n",
    "    vmesh_list.append(vmesh)\n",
    "\n",
    "vscene = trimesh.Scene(vmesh_list)\n",
    "vscene.show()"
   ]
  },
  {
   "cell_type": "code",
   "execution_count": null,
   "metadata": {},
   "outputs": [],
   "source": [
    "vscene = trimesh.Scene(vmesh_list)\n",
    "vscene.show()"
   ]
  },
  {
   "cell_type": "code",
   "execution_count": null,
   "metadata": {},
   "outputs": [],
   "source": [
    "indices = np.array([[0,0,0]],dtype=int)\n",
    "for vmesh in vmesh_list:\n",
    "    indices = np.append(indices, np.array(vmesh.vertices, dtype=int),axis=0)\n",
    "# np.shape(indices)\n",
    "indices  = [index for index in indices if index[0] < morphology.x_dim and index[1] < morphology.y_dim and index[2] < morphology.z_dim]\n",
    "    \n",
    "voxel_box = np.zeros((morphology.x_dim, morphology.y_dim, morphology.z_dim))\n",
    "for index in indices:\n",
    "    voxel_box[tuple(index)] = 1"
   ]
  },
  {
   "cell_type": "code",
   "execution_count": null,
   "metadata": {},
   "outputs": [],
   "source": []
  },
  {
   "cell_type": "code",
   "execution_count": null,
   "metadata": {},
   "outputs": [],
   "source": [
    "vmesh_list[0].vertices"
   ]
  },
  {
   "cell_type": "code",
   "execution_count": null,
   "metadata": {},
   "outputs": [],
   "source": [
    "np.any(vmesh_list[0].vertices > 500)"
   ]
  },
  {
   "cell_type": "code",
   "execution_count": null,
   "metadata": {},
   "outputs": [],
   "source": []
  },
  {
   "cell_type": "code",
   "execution_count": null,
   "metadata": {},
   "outputs": [],
   "source": [
    "plt.figure(dpi=150)\n",
    "plt.imshow(voxel_box[:,:,7])\n",
    "# np.where(voxel_box == 1)"
   ]
  },
  {
   "cell_type": "code",
   "execution_count": null,
   "metadata": {},
   "outputs": [],
   "source": [
    "ax = plt.figure().add_subplot(projection='3d')\n",
    "ax.voxels(voxel_box)\n",
    "ax.set_aspect('equal')\n",
    "plt.show()"
   ]
  },
  {
   "cell_type": "code",
   "execution_count": null,
   "metadata": {},
   "outputs": [],
   "source": [
    "# print(vmesh_list)\n",
    "# vmesh_list.append(morphology.bounding_path)\n",
    "vscene = trimesh.Scene(vmesh_list)\n",
    "vscene.show()"
   ]
  },
  {
   "cell_type": "code",
   "execution_count": null,
   "metadata": {},
   "outputs": [],
   "source": [
    "plt.imshow(v.matrix[:,10])\n",
    "plt.show()"
   ]
  },
  {
   "cell_type": "code",
   "execution_count": null,
   "metadata": {},
   "outputs": [],
   "source": [
    "v.translation"
   ]
  },
  {
   "cell_type": "code",
   "execution_count": null,
   "metadata": {},
   "outputs": [],
   "source": [
    "vmesh_list.pop()"
   ]
  },
  {
   "cell_type": "markdown",
   "metadata": {
    "jupyter": {
     "outputs_hidden": true
    }
   },
   "source": [
    "### What's next?\n",
    "###### - Get the angles sorted\n",
    "###### - Functionality to check average angle\n",
    "###### - Check degree of crystallinity\n",
    "###### - Voxelize mesh\n",
    "###### - Angles "
   ]
  },
  {
   "cell_type": "code",
   "execution_count": null,
   "metadata": {},
   "outputs": [],
   "source": [
    "full_cyl_vox = full_cyl_mesh.voxelized(pitch=2)\n",
    "full_cyl_vox.fill()\n",
    "full_cyl_vox_mesh  = full_cyl_vox.as_boxes()\n",
    "print(full_cyl_vox.volume)\n",
    "print(full_cyl_mesh.volume)"
   ]
  },
  {
   "cell_type": "code",
   "execution_count": null,
   "metadata": {},
   "outputs": [],
   "source": [
    "full_cyl_vox_mesh.show()"
   ]
  },
  {
   "cell_type": "code",
   "execution_count": null,
   "metadata": {
    "jupyter": {
     "outputs_hidden": true
    }
   },
   "outputs": [],
   "source": [
    "broken = trimesh.repair.broken_faces(full_cyl_vox_mesh, color=[255, 0, 0, 255])\n",
    "print(len(broken))\n",
    "print(full_cyl_vox_mesh.is_watertight)\n",
    "full_cyl_vox_mesh.show(smooth=False)"
   ]
  },
  {
   "cell_type": "code",
   "execution_count": null,
   "metadata": {},
   "outputs": [],
   "source": [
    "core_cyl_vox = core_cyl_mesh.voxelized(pitch=2)\n",
    "core_cyl_vox.fill()\n",
    "core_cyl_vox_mesh  = core_cyl_vox.as_boxes()\n",
    "print(core_cyl_vox.volume)\n",
    "print(core_cyl_mesh.volume)"
   ]
  },
  {
   "cell_type": "code",
   "execution_count": null,
   "metadata": {},
   "outputs": [],
   "source": [
    "shell_cyl_vox = shell_cyl_mesh.voxelized(pitch=2)\n",
    "shell_cyl_vox.fill()\n",
    "shell_cyl_vox_mesh = shell_cyl_vox.as_boxes()\n",
    "print(shell_cyl_vox.volume)\n",
    "print(shell_cyl_mesh.volume)"
   ]
  },
  {
   "cell_type": "code",
   "execution_count": null,
   "metadata": {},
   "outputs": [],
   "source": [
    "within_mesh(full_cyl_vox_mesh, core_cyl_vox_mesh)"
   ]
  },
  {
   "cell_type": "code",
   "execution_count": null,
   "metadata": {},
   "outputs": [],
   "source": [
    "shell_cyl_mesh.is_watertight"
   ]
  },
  {
   "cell_type": "code",
   "execution_count": null,
   "metadata": {
    "jupyter": {
     "outputs_hidden": true
    }
   },
   "outputs": [],
   "source": [
    "v1_mesh.visual.face_colors[:] = [255, 0, 0, 0]\n",
    "trans_matrix = trimesh.transformations.translation_matrix([64, 0, 0])\n",
    "v2_mesh.apply_transform(trans_matrix)\n",
    "voxel_scene = trimesh.Scene([v3_mesh, m3])\n",
    "voxel_scene.show()"
   ]
  },
  {
   "cell_type": "code",
   "execution_count": null,
   "metadata": {},
   "outputs": [],
   "source": [
    "v"
   ]
  },
  {
   "cell_type": "code",
   "execution_count": null,
   "metadata": {},
   "outputs": [],
   "source": []
  },
  {
   "cell_type": "code",
   "execution_count": null,
   "metadata": {},
   "outputs": [],
   "source": [
    "radius = 10\n",
    "height = 40\n",
    "pitch  = 0.2\n",
    "mesh = trimesh.primitives.Cylinder(radius=radius, height=height, use_embree=True)\n",
    "mesh_vol = mesh.volume\n",
    "print(f'Mesh Volume: {mesh_vol:.2f}')\n",
    "\n",
    "voxel_grid = mesh.voxelized(pitch=pitch)\n",
    "voxel_mesh = voxel_grid.fill().as_boxes()\n",
    "voxel_mesh_vol = voxel_mesh.volume\n",
    "print(f'Voxel Mesh Volume: {voxel_mesh_vol:.2f}')\n",
    "\n",
    "vol_diff = np.abs(voxel_mesh_vol - mesh_vol)/mesh_vol * 100\n",
    "print(f'Volume Difference: {vol_diff:.2f}%')"
   ]
  },
  {
   "cell_type": "code",
   "execution_count": null,
   "metadata": {},
   "outputs": [],
   "source": [
    "import numpy as np"
   ]
  },
  {
   "cell_type": "code",
   "execution_count": null,
   "metadata": {},
   "outputs": [],
   "source": [
    "mu, sigma = 0, 1.0\n",
    "samples   = 100000\n",
    "gnoise = np.random.normal(mu, sigma, samples)\n",
    "enoise = np.random.uniform(0.0, np.pi, samples)\n",
    "abs(mu - np.mean(gnoise))\n",
    "\n",
    "theta = (90 + gnoise)/180 * np.pi\n",
    "phi    = enoise"
   ]
  },
  {
   "cell_type": "code",
   "execution_count": null,
   "metadata": {},
   "outputs": [],
   "source": [
    "vec2 = np.sin(theta)*np.cos(phi)\n",
    "vec1 = np.sin(theta)*np.sin(phi)\n",
    "vec0 = np.cos(theta)\n",
    "plt.figure()\n",
    "count, bins, ignored = plt.hist(vec2, 30, density=True)\n",
    "plt.title('vec2')\n",
    "plt.figure()\n",
    "count, bins, ignored = plt.hist(vec1, 30, density=True)\n",
    "plt.title('vec1')\n",
    "plt.figure()\n",
    "count, bins, ignored = plt.hist(vec0, 30, density=True)\n",
    "plt.title('vec0')\n",
    "plt.show()"
   ]
  },
  {
   "cell_type": "code",
   "execution_count": null,
   "metadata": {},
   "outputs": [],
   "source": []
  },
  {
   "cell_type": "code",
   "execution_count": null,
   "metadata": {},
   "outputs": [],
   "source": [
    "import matplotlib.pyplot as plt\n",
    "import numpy as np\n",
    "\n",
    "\n",
    "def midpoints(x):\n",
    "    sl = ()\n",
    "    for _ in range(x.ndim):\n",
    "        x = (x[sl + np.index_exp[:-1]] + x[sl + np.index_exp[1:]]) / 2.0\n",
    "        sl += np.index_exp[:]\n",
    "    return x\n",
    "\n",
    "# prepare some coordinates, and attach rgb values to each\n",
    "r, g, b = np.indices((17, 17, 17)) / 16.0\n",
    "rc = midpoints(r)\n",
    "gc = midpoints(g)\n",
    "bc = midpoints(b)\n",
    "\n",
    "# define a sphere about [0.5, 0.5, 0.5]\n",
    "sphere = (rc - 0.5)**2 + (gc - 0.5)**2 + (bc - 0.5)**2 < 0.5**2\n",
    "\n",
    "# combine the color components\n",
    "colors = np.zeros(sphere.shape + (3,))\n",
    "colors[..., 0] = rc\n",
    "colors[..., 1] = gc\n",
    "colors[..., 2] = bc\n",
    "\n",
    "# and plot everything\n",
    "ax = plt.figure().add_subplot(projection='3d')\n",
    "ax.voxels(r, g, b, sphere,\n",
    "          facecolors=colors,\n",
    "          edgecolors=np.clip(2*colors - 0.5, 0, 1),  # brighter\n",
    "          linewidth=0.5)\n",
    "ax.set(xlabel='r', ylabel='g', zlabel='b')\n",
    "ax.set_aspect('equal')\n",
    "\n",
    "# plt.show()"
   ]
  },
  {
   "cell_type": "code",
   "execution_count": null,
   "metadata": {},
   "outputs": [],
   "source": []
  }
 ],
 "metadata": {
  "kernelspec": {
   "display_name": "Python 3",
   "language": "python",
   "name": "python3"
  },
  "language_info": {
   "codemirror_mode": {
    "name": "ipython",
    "version": 3
   },
   "file_extension": ".py",
   "mimetype": "text/x-python",
   "name": "python",
   "nbconvert_exporter": "python",
   "pygments_lexer": "ipython3",
   "version": "3.8.5"
  },
  "vscode": {
   "interpreter": {
    "hash": "35a52ff210bbb5ee2882099d0e30eeb06c230a07872e54930f2ca434bfb7bb39"
   }
  }
 },
 "nbformat": 4,
 "nbformat_minor": 4
}
