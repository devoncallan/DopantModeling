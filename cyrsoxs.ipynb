{
 "cells": [
  {
   "cell_type": "code",
   "execution_count": 1,
   "metadata": {},
   "outputs": [
    {
     "name": "stdout",
     "output_type": "stream",
     "text": [
      "CyRSoXS\n",
      "============================================================================\n",
      "Size of Real               : 4\n",
      "Maximum Number Of Material : 32\n",
      " __________________________________________________________________________________________________\n",
      "|                                 Thanks for using CyRSoXS                                        |\n",
      "|--------------------------------------------------------------------------------------------------|\n",
      "|  Copyright          : Iowa State University                                                      |\n",
      "|  License            : NIST                                                                       |\n",
      "|  Acknowledgement    : ONR MURI                                                                   |\n",
      "|                                                                                                  |\n",
      "|  Developed at Iowa State University in collaboration with NIST                                   |\n",
      "|                                                                                                  |\n",
      "|  Please cite the following publication :                                                         |\n",
      "|  Comments/Questions :                                                                            |\n",
      "|          1. Dr. Baskar GanapathySubramanian (baskarg@iastate.edu)                                |\n",
      "|          2. Dr. Adarsh Krishnamurthy        (adarsh@iastate.edu)                                 |\n",
      "|          2. Dr. Dean DeLongchamp            (dean.delongchamp@nist.gov)                          |\n",
      " -------------------------------------------------------------------------------------------------- \n",
      "Version   :  1 . 1 . 5 . 2\n",
      "Git patch :  7ff509f\n"
     ]
    }
   ],
   "source": [
    "import numpy as np\n",
    "import matplotlib.pyplot as plt\n",
    "from src.Morphology.FibrilGenerator import FibrilGenerator, FibrilSizeParams, FibrilGrowthParams, FibrilOrientationParams\n",
    "from src.Morphology.FibrilGenerator import FibrilOrientation, FibrilDistribution\n",
    "from tqdm import tqdm\n",
    "import napari \n",
    "\n",
    "from NRSS.writer import write_materials, write_hdf5, write_config\n",
    "from NRSS.checkH5 import checkH5\n",
    "\n",
    "\n",
    "import sys\n",
    "\n",
    "%load_ext autoreload\n",
    "%autoreload 2"
   ]
  },
  {
   "cell_type": "code",
   "execution_count": null,
   "metadata": {},
   "outputs": [],
   "source": [
    "sys.path.append('/home/devon/Documents/Github/NRSS/')\n",
    "sys.path.append('/home/devon/Documents/Github/PyHyperScattering/src/')"
   ]
  },
  {
   "cell_type": "code",
   "execution_count": null,
   "metadata": {},
   "outputs": [],
   "source": [
    "x_dim_nm = 1024\n",
    "y_dim_nm = x_dim_nm\n",
    "z_dim_nm = 512\n",
    "pitch_nm = 2\n",
    "\n",
    "# Initialize fibril generator\n",
    "fibgen = FibrilGenerator(x_dim_nm, y_dim_nm, z_dim_nm, pitch_nm)\n",
    "\n",
    "# Define fibril generator parameters\n",
    "fibril_size_params = FibrilSizeParams(\n",
    "    radius_nm_avg=15, \n",
    "    radius_nm_std=3,\n",
    "    min_fibril_length_nm=100, \n",
    "    max_fibril_length_nm=400\n",
    ")\n",
    "\n",
    "fibril_growth_params = FibrilGrowthParams(\n",
    "    max_num_fibrils=1250, \n",
    "    fibril_distribution=FibrilDistribution.PDS,\n",
    "    c2c_dist_nm=45, \n",
    "    symmetrical_growth=False, \n",
    "    periodic_bc=False\n",
    ")\n",
    "\n",
    "f=0.05\n",
    "fibril_orientation_params = FibrilOrientationParams(\n",
    "    fibril_orientation=FibrilOrientation.GRF_SAMPLE_FLAT,\n",
    "    k=1./25,\n",
    "    std=1./125\n",
    "    # k=1./(fibgen.x_dim*np.pi*f), \n",
    "    # std=1./(fibgen.x_dim*np.pi*f)\n",
    ")\n",
    "\n",
    "# Set fibril generator parameters\n",
    "fibgen.set_model_parameters(\n",
    "    fibril_size_params=fibril_size_params, \n",
    "    fibril_growth_params=fibril_growth_params,\n",
    "    fibril_orientation_params=fibril_orientation_params\n",
    ")\n",
    "\n",
    "# Fill model with fibrils\n",
    "fibgen.fill_model()\n",
    "\n"
   ]
  },
  {
   "cell_type": "code",
   "execution_count": null,
   "metadata": {},
   "outputs": [],
   "source": [
    "from src.Visualization.animation import create_napari_viewer, create_rotate_animation\n",
    "\n",
    "viewer, layer = visualize_morphology(fibgen.box)\n",
    "rotate_morphology(viewer, layer)"
   ]
  },
  {
   "cell_type": "code",
   "execution_count": null,
   "metadata": {},
   "outputs": [],
   "source": [
    "from napari_animation import Animation\n",
    "\n",
    "def add(tuple1, tuple2):\n",
    "    return tuple(x + y for x, y in zip(tuple1, tuple2))\n",
    "\n",
    "viewer = napari.Viewer(ndisplay=3)\n",
    "# viewer.window.resize(1600,1200)\n",
    "layer = viewer.add_image(fibgen.box)\n",
    "# layer.blending = 'additive'\n",
    "layer.blending = 'translucent_no_depth'\n",
    "layer.interpolation = 'cubic'\n",
    "layer.colormap = 'twilight_shifted'\n",
    "# layer.colormap = 'inferno'\n",
    "layer.rendering = 'attenuated_mip'\n",
    "layer.attenuation = 0.03\n",
    "\n",
    "# viewer.camera.angles = (35.264, 45, 0)\n",
    "# viewer.camera.zoom = 0.9\n",
    "\n",
    "initial_angle = (90, 35.264, 135)\n",
    "initial_zoom = 1.5\n",
    "num_steps = 120\n",
    "\n",
    "viewer.camera.angles = initial_angle\n",
    "viewer.camera.zoom = initial_zoom\n",
    "\n",
    "animation = Animation(viewer)\n",
    "\n",
    "viewer.camera.angles = initial_angle\n",
    "animation.capture_keyframe()\n",
    "# viewer.camera.zoom = 2.4\n",
    "# animation.capture_keyframe()\n",
    "current_angle = add(initial_angle, (0, 0, 90))\n",
    "viewer.camera.angles = current_angle\n",
    "animation.capture_keyframe(steps=num_steps)\n",
    "\n",
    "current_angle = add(current_angle, (0, 0, 90))\n",
    "viewer.camera.angles = current_angle\n",
    "animation.capture_keyframe(steps=num_steps)\n",
    "\n",
    "current_angle = add(current_angle, (0, 0, 90))\n",
    "viewer.camera.angles = current_angle\n",
    "animation.capture_keyframe(steps=num_steps)\n",
    "\n",
    "current_angle = add(current_angle, (0, 0, 90))\n",
    "viewer.camera.angles = current_angle\n",
    "animation.capture_keyframe(steps=num_steps)\n",
    "\n",
    "animation.animate('demo.mp4', canvas_only=True, fps=60, quality=9)\n",
    "\n",
    "napari.run()\n"
   ]
  },
  {
   "cell_type": "code",
   "execution_count": null,
   "metadata": {},
   "outputs": [],
   "source": [
    "print(viewer.camera.zoom)\n",
    "print(viewer.camera.angles)\n",
    "print(layer.attenuation)"
   ]
  },
  {
   "cell_type": "code",
   "execution_count": null,
   "metadata": {},
   "outputs": [],
   "source": []
  },
  {
   "cell_type": "code",
   "execution_count": null,
   "metadata": {},
   "outputs": [],
   "source": [
    "from src.Morphology.FibrilGenerator import FieldType\n",
    "fibgen.plot_field(field_type=FieldType.PSI)\n",
    "plt.show()"
   ]
  },
  {
   "cell_type": "code",
   "execution_count": null,
   "metadata": {},
   "outputs": [],
   "source": [
    "from src.Morphology.FibrilGenerator import Materials\n",
    "from src.Morphology.FibrilPostProcessor import FibrilPostProcessor, MaterialParams, SurfaceRoughnessParams, CoreShellParams, MatrixParams, DopantParams\n",
    "\n",
    "from src.Morphology.FibrilPostProcessor import DopantOrientation\n",
    "\n",
    "mw = {\n",
    "    Materials.CRYSTAL_ID: 166.2842, # Molecular weight of crystalline P3HT repeat\n",
    "    Materials.AMORPH_ID: 166.2842,  # Molecular weight of amorphous P3HT repeat\n",
    "    Materials.DOPANT_ID: 276.15     # Molecular weight of TFSI- = 280.14, Molecular weight of F4TCNQ = 276.15\n",
    "}\n",
    "\n",
    "density = {\n",
    "    Materials.CRYSTAL_ID: 1.1, # Density of crystalline P3HT\n",
    "    Materials.AMORPH_ID: 1.1,  # Density of amorphous P3HT\n",
    "    Materials.DOPANT_ID: 1.1   # Density of dopant in P3HT\n",
    "}\n",
    "\n",
    "material_params = MaterialParams(\n",
    "    num_materials=4, mw=mw, density=density)\n",
    "\n",
    "core_shell_params = CoreShellParams(\n",
    "    gaussian_std=3, fibril_shell_cutoff=0.2)\n",
    "\n",
    "matrix_params = MatrixParams(\n",
    "    amorph_matrix_Vfrac=0.9, amorph_orientation=True)\n",
    "\n",
    "surface_roughness_params = SurfaceRoughnessParams(\n",
    "    height_feature=3,max_valley_nm=43)\n",
    "surface_roughness_params = None\n",
    "\n",
    "dopant_params = DopantParams(\n",
    "    dopant_vol_frac=0.0, crystal_dopant_frac=1.0,\n",
    "    dopant_orientation=DopantOrientation.ISOTROPIC)\n",
    "dopant_params = None\n",
    "\n",
    "post_processor = FibrilPostProcessor(\n",
    "    material_params=material_params,\n",
    "    matrix_params=matrix_params,\n",
    "    surface_roughness_params=surface_roughness_params,\n",
    "    core_shell_params=core_shell_params,\n",
    "    dopant_params=dopant_params)"
   ]
  },
  {
   "cell_type": "code",
   "execution_count": null,
   "metadata": {},
   "outputs": [],
   "source": [
    "data = fibgen.create_morphology_data()\n",
    "data = post_processor.process(data)\n",
    "post_processor.save_parameters('Fibril', data, fibgen)"
   ]
  },
  {
   "cell_type": "code",
   "execution_count": null,
   "metadata": {},
   "outputs": [],
   "source": [
    "write_hdf5(data.get_data()[0:3], float(data.pitch_nm), 'Fibril.hdf5')"
   ]
  },
  {
   "cell_type": "code",
   "execution_count": null,
   "metadata": {},
   "outputs": [],
   "source": [
    "# checkH5('1024x1024x512nm_pitch2nm_rad15nm_std3nm_1250fib_100-400nm.hdf5', z_slice=55)"
   ]
  },
  {
   "cell_type": "code",
   "execution_count": null,
   "metadata": {},
   "outputs": [],
   "source": []
  },
  {
   "cell_type": "code",
   "execution_count": null,
   "metadata": {},
   "outputs": [],
   "source": [
    "from NRSS.checkH5 import animateH5\n",
    "\n",
    "figs = checkH5('Fibril.hdf5', z_slice=128)\n",
    "# animateH5('Fibril.hdf5')"
   ]
  },
  {
   "cell_type": "code",
   "execution_count": null,
   "metadata": {},
   "outputs": [],
   "source": [
    "# figs[0].savefig('mat0.png')\n",
    "for i, fig in enumerate(figs):\n",
    "    fig.savefig(f'mat_{i+1}.png')"
   ]
  },
  {
   "cell_type": "code",
   "execution_count": null,
   "metadata": {},
   "outputs": [],
   "source": [
    "energies1 = np.round(np.arange(280., 286., 0.5),1)\n",
    "energies2 = np.round(np.arange(286., 288., 0.2),1)\n",
    "energies3 = np.round(np.arange(288., 291.5, 0.5),1)\n",
    "energies = np.concatenate([energies1, energies2, energies3])\n",
    "# energies = np.round(np.arange(280., 295., 1),1)\n",
    "print(energies)\n",
    "\n",
    "material_dict = {\n",
    "    'Material1': 'vacuum', \n",
    "    'Material2': 'interp_P3HT_database_kkcalc_merge.txt', \n",
    "    'Material3': 'interp_P3HT_database_kkcalc_merge_isotropic.txt',\n",
    "    'Material4': 'vacuum'\n",
    "}\n",
    "energy_dict = {\n",
    "    'Energy': 6,\n",
    "    'DeltaPerp': 3,\n",
    "    'BetaPerp': 1,\n",
    "    'DeltaPara': 2,\n",
    "    'BetaPara': 0 \n",
    "}\n",
    "\n",
    "write_materials(energies, material_dict, energy_dict, 3)\n",
    "write_config(list(energies), [0.0, 1.0, 360.0], CaseType=0, MorphologyType=0)"
   ]
  },
  {
   "cell_type": "code",
   "execution_count": null,
   "metadata": {},
   "outputs": [],
   "source": []
  },
  {
   "cell_type": "code",
   "execution_count": null,
   "metadata": {},
   "outputs": [],
   "source": [
    "import subprocess\n",
    "\n",
    "subprocess.run(['CyRSoXS', 'test/Fibril.hdf5'])"
   ]
  },
  {
   "cell_type": "code",
   "execution_count": null,
   "metadata": {},
   "outputs": [],
   "source": [
    "import pathlib\n",
    "from PyHyperScattering.load import cyrsoxsLoader\n",
    "from PyHyperScattering.integrate import WPIntegrator\n",
    "\n",
    "basePath = pathlib.Path('.').absolute()\n",
    "h5path = pathlib.Path(basePath,'HDF5')\n",
    "h5list = list(sorted(h5path.glob('*h5')))\n",
    "print(h5list)\n",
    "\n",
    "load = cyrsoxsLoader()\n",
    "integ = WPIntegrator()\n",
    "raw = load.loadDirectory(basePath, PhysSize=2)\n",
    "remeshed = integ.integrateImageStack(raw)\n",
    "\n",
    "\n",
    "start_q = 0.1\n",
    "end_q = 0.9\n",
    "\n",
    "# para = remeshed.rsoxs.slice_chi(90, chi_width = 45).sel(q = slice(start_q, end_q)) + remeshed.rsoxs.slice_chi(-90, chi_width = 45).sel(q = slice(start_q, end_q))\n",
    "# perp = remeshed.rsoxs.slice_chi(0, chi_width = 45).sel(q = slice(start_q, end_q)) + remeshed.rsoxs.slice_chi(180, chi_width = 45).sel(q = slice(start_q, end_q))\n",
    "para = remeshed.rsoxs.slice_chi(90, chi_width = 45) + remeshed.rsoxs.slice_chi(-90, chi_width = 45)\n",
    "perp = remeshed.rsoxs.slice_chi(0, chi_width = 45)  + remeshed.rsoxs.slice_chi(180, chi_width = 45)\n",
    "\n",
    "\n",
    "AR = (para - perp)/(para + perp)\n",
    "\n",
    "\n",
    "# 0.01 - 0.09 inverse angstroms\n",
    "\n",
    "# If in angstroms, 0.01 - 0.09 inverse angstroms\n",
    "\n",
    "# If in nanometers, 0.1 / (10 * angstroms) - 0.9 inverse nanometers"
   ]
  },
  {
   "cell_type": "code",
   "execution_count": null,
   "metadata": {},
   "outputs": [],
   "source": [
    "from matplotlib import cm\n",
    "from matplotlib.colors import LogNorm\n",
    "\n",
    "c = cm.jet(np.linspace(0,1,len(remeshed)))\n",
    "fig, ax = plt.subplots(1,3,figsize=(10,3),dpi=140,constrained_layout=True)\n",
    "raw.sel(energy=283).plot(norm=LogNorm(1e-2,1e7),cmap='terrain',ax=ax[0],add_colorbar=False)\n",
    "raw.sel(energy=285).plot(norm=LogNorm(1e-2,1e7),cmap='terrain',ax=ax[1],add_colorbar=False)\n",
    "raw.sel(energy=286).plot(norm=LogNorm(1e-2,1e7),cmap='terrain',ax=ax[2])\n",
    "\n",
    "[{axes.set_xlim(-end_q,end_q),axes.set_ylim(-end_q,end_q)} for axes in ax]\n",
    "plt.show()"
   ]
  },
  {
   "cell_type": "code",
   "execution_count": null,
   "metadata": {},
   "outputs": [],
   "source": [
    "fig, axs = plt.subplots(2,3,figsize=(10,6),dpi=140,constrained_layout=True)\n",
    "axs = axs.flatten()\n",
    "end_q = 0.9\n",
    "\n",
    "raw.sel(energy=280).plot(x='qx',y='qy',norm=LogNorm(1e-1,1e7),cmap='terrain',ax=axs[0],add_colorbar=False)\n",
    "raw.sel(energy=282).plot(x='qx',y='qy',norm=LogNorm(1e-1,1e7),cmap='terrain',ax=axs[1],add_colorbar=False)\n",
    "raw.sel(energy=284).plot(x='qx',y='qy',norm=LogNorm(1e-1,1e7),cmap='terrain',ax=axs[2])\n",
    "raw.sel(energy=286).plot(x='qx',y='qy',norm=LogNorm(1e-1,1e7),cmap='terrain',ax=axs[3],add_colorbar=False)\n",
    "raw.sel(energy=288).plot(x='qx',y='qy',norm=LogNorm(1e-1,1e7),cmap='terrain',ax=axs[4],add_colorbar=False)\n",
    "raw.sel(energy=290).plot(x='qx',y='qy',norm=LogNorm(1e-1,1e7),cmap='terrain',ax=axs[5])\n",
    "\n",
    "[{ax.set_xlim(-end_q,end_q),\n",
    "  ax.set_ylim(-end_q,end_q),\n",
    "  ax.set_xlabel('$q_x$ (nm$^{-1}$)'),\n",
    "  ax.set_ylabel('$q_y$ (nm$^{-1}$)')} \n",
    "  for ax in axs]\n",
    "plt.show()\n",
    "\n"
   ]
  },
  {
   "cell_type": "code",
   "execution_count": null,
   "metadata": {},
   "outputs": [],
   "source": [
    "# calculate the anisotropy metric\n",
    "A = remeshed.rsoxs.AR(chi_width=45)"
   ]
  },
  {
   "cell_type": "code",
   "execution_count": null,
   "metadata": {},
   "outputs": [],
   "source": [
    "axs.flatten()"
   ]
  },
  {
   "cell_type": "code",
   "execution_count": null,
   "metadata": {},
   "outputs": [],
   "source": [
    "A.plot(x='q',cmap='RdBu')\n",
    "plt.xlim(left=start_q, right=end_q)\n",
    "plt.ylim(bottom=280, top=290)\n",
    "plt.xscale('linear')\n",
    "plt.xlabel('q (nm$^{-1}$)')\n",
    "plt.ylabel('Energy (eV)')\n",
    "plt.show()"
   ]
  },
  {
   "cell_type": "code",
   "execution_count": null,
   "metadata": {},
   "outputs": [],
   "source": [
    "AR.plot(x='q',cmap='RdBu_r')\n",
    "plt.xlim(left=start_q, right=end_q)\n",
    "plt.ylim(bottom=280, top=290)\n",
    "plt.xscale('linear')\n",
    "plt.show()"
   ]
  },
  {
   "cell_type": "code",
   "execution_count": null,
   "metadata": {},
   "outputs": [],
   "source": [
    "from src.Visualization.plot import plot_anisotropy_EvQ\n",
    "\n",
    "plot_anisotropy_EvQ(AR, (start_q, end_q))"
   ]
  },
  {
   "cell_type": "code",
   "execution_count": null,
   "metadata": {},
   "outputs": [],
   "source": [
    "A.plot(x='q',cmap='bwr_r')\n",
    "plt.xlim(left=start_q, right=end_q)\n",
    "plt.ylim(bottom=280, top=290)\n",
    "plt.xscale('linear')\n",
    "plt.show()"
   ]
  },
  {
   "cell_type": "code",
   "execution_count": null,
   "metadata": {},
   "outputs": [],
   "source": [
    "d_start = 10 # Angstroms\n",
    "q_start = 2*np.pi/d_start \n",
    "\n",
    "d_end = 100 # Angstroms\n",
    "q_end = 2*np.pi/d_end\n",
    "\n",
    "print(q_start, q_end)"
   ]
  },
  {
   "cell_type": "code",
   "execution_count": null,
   "metadata": {},
   "outputs": [],
   "source": [
    "q_start = 0.01 * 10 # nm^-1\n",
    "d_start = 2*np.pi/q_start # nm\n",
    "\n",
    "q_end = 0.04 * 10 # nm^-1\n",
    "d_end = 2*np.pi/q_end # nm\n",
    "\n",
    "\n",
    "print(d_start, d_end)"
   ]
  },
  {
   "cell_type": "code",
   "execution_count": null,
   "metadata": {},
   "outputs": [],
   "source": [
    "\n",
    "\n",
    "horz = remeshed.rsoxs.slice_chi(0, chi_width=20)\n",
    "vert = remeshed.rsoxs.slice_chi(90, chi_width=20)\n",
    "\n"
   ]
  },
  {
   "cell_type": "code",
   "execution_count": null,
   "metadata": {},
   "outputs": [],
   "source": [
    "from src.Visualization.plot import plot_intensity_EvQ, plot_para_perp\n",
    "\n",
    "plot_intensity_EvQ(horz, (start_q, end_q), label='parallel')\n",
    "plot_intensity_EvQ(vert, (start_q, end_q), label='perpendicular')\n",
    "plot_para_perp(horz, vert, I_range=(1e-3, 1e6))"
   ]
  },
  {
   "cell_type": "code",
   "execution_count": null,
   "metadata": {},
   "outputs": [],
   "source": [
    "\n",
    "\n",
    "# vert.plot(x='q',cmap='terrain',norm=LogNorm(1e-1,1e7), xscale='linear')\n",
    "# plt.xlim(left=0.01, right=1)\n",
    "# plt.show()\n",
    "\n"
   ]
  },
  {
   "cell_type": "code",
   "execution_count": null,
   "metadata": {},
   "outputs": [],
   "source": [
    "\n",
    "# energy = 285\n",
    "# vert.sel(energy=energy).plot(yscale='log',xscale='linear')\n",
    "# horz.sel(energy=energy).plot(yscale='log',xscale='linear')\n",
    "# plt.xlim(left=start_q, right=end_q)\n",
    "# plt.ylim(bottom=1e-5, top=1e6)\n",
    "# plt.legend(['Para', 'Perp'])\n",
    "# plt.xlabel('q (nm$^{-1}$)')\n",
    "# plt.ylabel('Intensity (a.u.)')\n",
    "# plt.show()\n",
    "\n"
   ]
  },
  {
   "cell_type": "code",
   "execution_count": null,
   "metadata": {},
   "outputs": [],
   "source": [
    "# horz.sel(energy=slice(280, 300)).energy"
   ]
  },
  {
   "cell_type": "code",
   "execution_count": null,
   "metadata": {},
   "outputs": [],
   "source": [
    "# import pandas as pd\n",
    "# file_path_p3ht = 'P3HT.txt'\n",
    "# # Attempting to read the file again with a flexible approach for space or tab delimiters\n",
    "# try:\n",
    "#     # Pandas can handle variable whitespace as a separator using regex\n",
    "#     df_p3ht = pd.read_csv(file_path_p3ht, delim_whitespace=True)\n",
    "# except Exception as e:\n",
    "#     error_message = str(e)\n",
    "\n",
    "# df_p3ht.head() if 'df_p3ht' in locals() else error_message\n"
   ]
  },
  {
   "cell_type": "code",
   "execution_count": null,
   "metadata": {},
   "outputs": [],
   "source": [
    "# import pandas as pd\n",
    "# from sklearn.linear_model import LinearRegression\n",
    "\n",
    "# # Load your data\n",
    "# df = pd.read_csv('interp_P3HT_database_kkcalc_merge_isotropic.txt', delimiter='\\t')\n",
    "# df = df[(df['energy'] >= 280) & (df['energy'] <= 300)]\n",
    "\n",
    "# X_beta = df[['beta_para', 'beta_perp']]\n",
    "# y_beta = df['beta']\n",
    "# reg_beta = LinearRegression().fit(X_beta, y_beta)\n",
    "# coefficients_beta = reg_beta.coef_\n",
    "\n",
    "# X_delta = df[['delta_para', 'delta_perp']]\n",
    "# y_delta = df['delta']\n",
    "# reg_delta = LinearRegression().fit(X_delta, y_delta)\n",
    "# coefficients_delta = reg_delta.coef_\n",
    "\n",
    "# print(\"Coefficients for beta:\", coefficients_beta)\n",
    "# print(\"Coefficients for delta:\", coefficients_delta)\n",
    "\n",
    "\n",
    "\n"
   ]
  },
  {
   "cell_type": "code",
   "execution_count": null,
   "metadata": {},
   "outputs": [],
   "source": [
    "plt.plot(df['energy'], y_beta)\n",
    "# plt.plot(df['energy'], X_beta * coefficients_delta)\n",
    "plt.show()"
   ]
  },
  {
   "cell_type": "code",
   "execution_count": null,
   "metadata": {},
   "outputs": [],
   "source": [
    "fit_beta = X_beta['beta_para'] * coefficients_beta[0] + X_beta['beta_perp'] * coefficients_beta[1]\n",
    "fit_beta = X_beta['beta_para'] * 0.333333333 + X_beta['beta_perp'] * 0.66666666666\n",
    "plt.plot(df['energy'], fit_beta)\n",
    "plt.plot(df['energy'], y_beta)\n",
    "plt.xlim([284, 286])\n",
    "plt.show()"
   ]
  },
  {
   "cell_type": "code",
   "execution_count": null,
   "metadata": {},
   "outputs": [],
   "source": [
    "from src.Common.files import move\n",
    "\n",
    "move('HDF5', 'test/')"
   ]
  },
  {
   "cell_type": "code",
   "execution_count": null,
   "metadata": {},
   "outputs": [],
   "source": [
    "move('config.txt', 'test/')"
   ]
  },
  {
   "cell_type": "code",
   "execution_count": null,
   "metadata": {},
   "outputs": [],
   "source": []
  }
 ],
 "metadata": {
  "kernelspec": {
   "display_name": "nrss",
   "language": "python",
   "name": "python3"
  },
  "language_info": {
   "codemirror_mode": {
    "name": "ipython",
    "version": 3
   },
   "file_extension": ".py",
   "mimetype": "text/x-python",
   "name": "python",
   "nbconvert_exporter": "python",
   "pygments_lexer": "ipython3",
   "version": "3.9.0"
  }
 },
 "nbformat": 4,
 "nbformat_minor": 2
}
