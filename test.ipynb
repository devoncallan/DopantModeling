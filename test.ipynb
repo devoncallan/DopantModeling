{
 "cells": [
  {
   "cell_type": "code",
   "execution_count": 1,
   "metadata": {},
   "outputs": [
    {
     "name": "stdout",
     "output_type": "stream",
     "text": [
      "CyRSoXS\n",
      "============================================================================\n",
      "Size of Real               : 4\n",
      "Maximum Number Of Material : 32\n",
      " __________________________________________________________________________________________________\n",
      "|                                 Thanks for using CyRSoXS                                        |\n",
      "|--------------------------------------------------------------------------------------------------|\n",
      "|  Copyright          : Iowa State University                                                      |\n",
      "|  License            : NIST                                                                       |\n",
      "|  Acknowledgement    : ONR MURI                                                                   |\n",
      "|                                                                                                  |\n",
      "|  Developed at Iowa State University in collaboration with NIST                                   |\n",
      "|                                                                                                  |\n",
      "|  Please cite the following publication :                                                         |\n",
      "|  Comments/Questions :                                                                            |\n",
      "|          1. Dr. Baskar GanapathySubramanian (baskarg@iastate.edu)                                |\n",
      "|          2. Dr. Adarsh Krishnamurthy        (adarsh@iastate.edu)                                 |\n",
      "|          2. Dr. Dean DeLongchamp            (dean.delongchamp@nist.gov)                          |\n",
      " -------------------------------------------------------------------------------------------------- \n",
      "Version   :  1 . 1 . 5 . 2\n",
      "Git patch :  7ff509f\n"
     ]
    }
   ],
   "source": [
    "import sys\n",
    "import numpy as np\n",
    "import matplotlib.pyplot as plt\n",
    "from tqdm import tqdm\n",
    "import napari \n",
    "\n",
    "from NRSS.writer import write_materials, write_hdf5, write_config\n",
    "from NRSS.checkH5 import checkH5\n",
    "\n",
    "from src.Morphology.FibrilGenerator import FibrilGenerator, FibrilSizeParams, FibrilGrowthParams, FibrilOrientationParams\n",
    "from src.Morphology.FibrilGenerator import FibrilOrientation, FibrilDistribution\n",
    "\n",
    "%load_ext autoreload\n",
    "%autoreload 2"
   ]
  },
  {
   "cell_type": "code",
   "execution_count": 2,
   "metadata": {},
   "outputs": [],
   "source": [
    "sys.path.append('/home/devon/Documents/Github/NRSS/')\n",
    "sys.path.append('/home/devon/Documents/Github/PyHyperScattering/src/')"
   ]
  },
  {
   "cell_type": "code",
   "execution_count": null,
   "metadata": {},
   "outputs": [],
   "source": [
    "from "
   ]
  }
 ],
 "metadata": {
  "kernelspec": {
   "display_name": "nrss",
   "language": "python",
   "name": "python3"
  },
  "language_info": {
   "codemirror_mode": {
    "name": "ipython",
    "version": 3
   },
   "file_extension": ".py",
   "mimetype": "text/x-python",
   "name": "python",
   "nbconvert_exporter": "python",
   "pygments_lexer": "ipython3",
   "version": "3.9.0"
  }
 },
 "nbformat": 4,
 "nbformat_minor": 2
}
